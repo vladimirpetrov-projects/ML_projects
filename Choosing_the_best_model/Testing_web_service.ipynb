{
 "cells": [
  {
   "cell_type": "code",
   "execution_count": 1,
   "id": "0bdda6aa",
   "metadata": {},
   "outputs": [],
   "source": [
    "import requests"
   ]
  },
  {
   "cell_type": "code",
   "execution_count": 2,
   "id": "d2c4659e",
   "metadata": {},
   "outputs": [],
   "source": [
    "url = 'http://192.168.1.66:9696/predict'"
   ]
  },
  {
   "cell_type": "code",
   "execution_count": 13,
   "id": "2b299481",
   "metadata": {},
   "outputs": [],
   "source": [
    "student = { \"type_school\" : \"Academic\" ,\n",
    "           \"school_accreditation\": \"A\",\n",
    "           \"gender\": \"Male\",\n",
    "           \"interest\": \"Not Interested\",\n",
    "           \"residence\": \"Urban\",\n",
    "           \"parent_age\": 56,\n",
    "           \"parent_salary\": 4000000,\n",
    "           \"house_area\": 95.0,\n",
    "           \"average_grades\": 84.09,\n",
    "           \"parent_was_in_college\": True,\n",
    "           }"
   ]
  },
  {
   "cell_type": "code",
   "execution_count": 14,
   "id": "f04b378e",
   "metadata": {},
   "outputs": [
    {
     "data": {
      "text/plain": [
       "{'Go_to_university': True, 'churn_probability': 0.5313386243386243}"
      ]
     },
     "execution_count": 14,
     "metadata": {},
     "output_type": "execute_result"
    }
   ],
   "source": [
    "requests.post(url, json=student).json()"
   ]
  }
 ],
 "metadata": {
  "kernelspec": {
   "display_name": "Python 3 (ipykernel)",
   "language": "python",
   "name": "python3"
  },
  "language_info": {
   "codemirror_mode": {
    "name": "ipython",
    "version": 3
   },
   "file_extension": ".py",
   "mimetype": "text/x-python",
   "name": "python",
   "nbconvert_exporter": "python",
   "pygments_lexer": "ipython3",
   "version": "3.9.7"
  }
 },
 "nbformat": 4,
 "nbformat_minor": 5
}

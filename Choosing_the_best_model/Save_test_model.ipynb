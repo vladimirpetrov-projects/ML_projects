{
 "cells": [
  {
   "cell_type": "code",
   "execution_count": 1,
   "id": "0e0ac4a2",
   "metadata": {},
   "outputs": [],
   "source": [
    "import pandas as pd\n",
    "import numpy as np\n",
    "\n",
    "import seaborn as sns\n",
    "from matplotlib import pyplot as plt\n",
    "\n",
    "from sklearn.metrics import mutual_info_score, roc_auc_score\n",
    "from sklearn.feature_extraction import DictVectorizer\n",
    "from sklearn.model_selection import train_test_split, GridSearchCV, KFold\n",
    "from sklearn.ensemble import RandomForestClassifier\n",
    "\n",
    "%matplotlib inline"
   ]
  },
  {
   "cell_type": "code",
   "execution_count": 8,
   "id": "ac56492e",
   "metadata": {},
   "outputs": [],
   "source": [
    "df = pd.read_csv('data.csv')"
   ]
  },
  {
   "cell_type": "code",
   "execution_count": 9,
   "id": "f028536f",
   "metadata": {},
   "outputs": [],
   "source": [
    "df_full_train, _ = train_test_split(df, test_size = 0.2, random_state=1)"
   ]
  },
  {
   "cell_type": "code",
   "execution_count": 10,
   "id": "18cfebac",
   "metadata": {},
   "outputs": [],
   "source": [
    "y_full_train = df_full_train['in_college']\n",
    "del df_full_train['in_college']"
   ]
  },
  {
   "cell_type": "code",
   "execution_count": 18,
   "id": "a0b9a03e",
   "metadata": {},
   "outputs": [],
   "source": [
    "max_depth = 10\n",
    "min_samples_leaf = 1\n",
    "n_estimators = 150"
   ]
  },
  {
   "cell_type": "code",
   "execution_count": 19,
   "id": "57eb4999",
   "metadata": {},
   "outputs": [
    {
     "data": {
      "text/plain": [
       "RandomForestClassifier(max_depth=10, n_estimators=150, n_jobs=-1)"
      ]
     },
     "execution_count": 19,
     "metadata": {},
     "output_type": "execute_result"
    }
   ],
   "source": [
    "dicts = df_full_train.to_dict(orient='records')\n",
    "dv = DictVectorizer(sparse=False)\n",
    "\n",
    "X_full_train = dv.fit_transform(dicts)\n",
    "\n",
    "model = RandomForestClassifier(max_depth=max_depth, min_samples_leaf=min_samples_leaf, n_estimators=n_estimators, n_jobs=-1)\n",
    "model.fit(X_full_train, y_full_train)"
   ]
  },
  {
   "cell_type": "markdown",
   "id": "b08546ab",
   "metadata": {},
   "source": [
    "Saving the model"
   ]
  },
  {
   "cell_type": "code",
   "execution_count": 20,
   "id": "7b78cc8c",
   "metadata": {},
   "outputs": [],
   "source": [
    "import pickle"
   ]
  },
  {
   "cell_type": "code",
   "execution_count": 22,
   "id": "0fd46419",
   "metadata": {},
   "outputs": [
    {
     "data": {
      "text/plain": [
       "'model_max_depth=10_n_estimators=150.bin'"
      ]
     },
     "execution_count": 22,
     "metadata": {},
     "output_type": "execute_result"
    }
   ],
   "source": [
    "output_file = f'model_max_depth={max_depth}_n_estimators={n_estimators}.bin'\n",
    "output_file"
   ]
  },
  {
   "cell_type": "code",
   "execution_count": 23,
   "id": "87eb071b",
   "metadata": {},
   "outputs": [],
   "source": [
    "f_out = open(output_file, 'wb')\n",
    "pickle.dump((dv, model), f_out)\n",
    "f_out.close()"
   ]
  },
  {
   "cell_type": "markdown",
   "id": "26ad9163",
   "metadata": {},
   "source": [
    "Load the model"
   ]
  },
  {
   "cell_type": "code",
   "execution_count": 1,
   "id": "6235278e",
   "metadata": {},
   "outputs": [],
   "source": [
    "import pickle"
   ]
  },
  {
   "cell_type": "code",
   "execution_count": 3,
   "id": "5d56c7c9",
   "metadata": {},
   "outputs": [],
   "source": [
    "model_file = 'model_max_depth=10_n_estimators=150.bin'"
   ]
  },
  {
   "cell_type": "code",
   "execution_count": 4,
   "id": "6d96d693",
   "metadata": {},
   "outputs": [],
   "source": [
    "f_in = open(model_file, 'rb')\n",
    "dv, model = pickle.load(f_in)\n",
    "f_in.close()"
   ]
  },
  {
   "cell_type": "code",
   "execution_count": 5,
   "id": "30caac0d",
   "metadata": {},
   "outputs": [
    {
     "data": {
      "text/plain": [
       "(DictVectorizer(sparse=False),\n",
       " RandomForestClassifier(max_depth=10, n_estimators=150, n_jobs=-1))"
      ]
     },
     "execution_count": 5,
     "metadata": {},
     "output_type": "execute_result"
    }
   ],
   "source": [
    "dv, model"
   ]
  },
  {
   "cell_type": "code",
   "execution_count": 9,
   "id": "5dc962a8",
   "metadata": {},
   "outputs": [],
   "source": [
    "student = { \"type_school : 'Academic' ,\n",
    "           'school_accreditation': 'A',\n",
    "           'gender': 'Male',\n",
    "           'interest': 'Less Interested',\n",
    "           'residence': 'Urban',\n",
    "           'parent_age': 56,\n",
    "           'parent_salary': 3770000,\n",
    "           'house_area': 83.0,\n",
    "           'average_grades': 84.09,\n",
    "           'parent_was_in_college': False,\n",
    "           }"
   ]
  },
  {
   "cell_type": "code",
   "execution_count": 10,
   "id": "1f8421a9",
   "metadata": {},
   "outputs": [],
   "source": [
    "X=dv.transform([student])"
   ]
  },
  {
   "cell_type": "code",
   "execution_count": 11,
   "id": "618c89c3",
   "metadata": {},
   "outputs": [
    {
     "data": {
      "text/plain": [
       "0.3099249866372292"
      ]
     },
     "execution_count": 11,
     "metadata": {},
     "output_type": "execute_result"
    }
   ],
   "source": [
    "model.predict_proba(X)[0, 1]"
   ]
  }
 ],
 "metadata": {
  "kernelspec": {
   "display_name": "Python 3 (ipykernel)",
   "language": "python",
   "name": "python3"
  },
  "language_info": {
   "codemirror_mode": {
    "name": "ipython",
    "version": 3
   },
   "file_extension": ".py",
   "mimetype": "text/x-python",
   "name": "python",
   "nbconvert_exporter": "python",
   "pygments_lexer": "ipython3",
   "version": "3.9.7"
  }
 },
 "nbformat": 4,
 "nbformat_minor": 5
}
